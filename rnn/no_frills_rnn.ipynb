{
 "cells": [
  {
   "cell_type": "code",
   "execution_count": 1,
   "metadata": {
    "collapsed": true
   },
   "outputs": [],
   "source": [
    "import numpy as np\n",
    "import tensorflow as tf\n",
    "%matplotlib inline\n",
    "import matplotlib.pyplot as plt"
   ]
  },
  {
   "cell_type": "code",
   "execution_count": 2,
   "metadata": {
    "collapsed": false
   },
   "outputs": [],
   "source": [
    "# Global config variables\n",
    "num_steps = 10 # number of truncated backprop steps ('n' in the discussion above)\n",
    "batch_size = 200\n",
    "num_classes = 2\n",
    "state_size = 16\n",
    "learning_rate = 0.1"
   ]
  },
  {
   "cell_type": "code",
   "execution_count": 3,
   "metadata": {
    "collapsed": false
   },
   "outputs": [],
   "source": [
    "def gen_data(size=1000000):\n",
    "    X = np.array(np.random.choice(2, size=(size,)))\n",
    "    Y = []\n",
    "    for i in range(size):\n",
    "        threshold = 0.5\n",
    "        if X[i-3] == 1:\n",
    "            threshold += 0.5\n",
    "        if X[i-8] == 1:\n",
    "            threshold -= 0.25\n",
    "        if np.random.rand() > threshold:\n",
    "            Y.append(0)\n",
    "        else:\n",
    "            Y.append(1)\n",
    "    return X, np.array(Y)\n",
    "\n",
    "# adapted from https://github.com/tensorflow/tensorflow/blob/master/tensorflow/models/rnn/ptb/reader.py\n",
    "def gen_batch(raw_data, batch_size, num_steps):\n",
    "    raw_x, raw_y = raw_data\n",
    "    data_length = len(raw_x)\n",
    "\n",
    "    # partition raw data into batches and stack them vertically in a data matrix\n",
    "    batch_partition_length = data_length // batch_size\n",
    "    data_x = np.zeros([batch_size, batch_partition_length], dtype=np.int32)\n",
    "    data_y = np.zeros([batch_size, batch_partition_length], dtype=np.int32)\n",
    "    for i in range(batch_size):\n",
    "        data_x[i] = raw_x[batch_partition_length * i:batch_partition_length * (i + 1)]\n",
    "        data_y[i] = raw_y[batch_partition_length * i:batch_partition_length * (i + 1)]\n",
    "    # further divide batch partitions into num_steps for truncated backprop\n",
    "    epoch_size = batch_partition_length // num_steps\n",
    "\n",
    "    for i in range(epoch_size):\n",
    "        x = data_x[:, i * num_steps:(i + 1) * num_steps]\n",
    "        y = data_y[:, i * num_steps:(i + 1) * num_steps]\n",
    "        yield (x, y)\n",
    "\n",
    "def gen_epochs(n, num_steps):\n",
    "    for i in range(n):\n",
    "        yield gen_batch(gen_data(), batch_size, num_steps)"
   ]
  },
  {
   "cell_type": "code",
   "execution_count": 4,
   "metadata": {
    "collapsed": false
   },
   "outputs": [
    {
     "name": "stdout",
     "output_type": "stream",
     "text": [
      "Tensor(\"one_hot:0\", shape=(200, 10, 2), dtype=float32)\n",
      "Tensor(\"unstack:0\", shape=(200, 2), dtype=float32)\n"
     ]
    }
   ],
   "source": [
    "\"\"\"\n",
    "Placeholders\n",
    "\"\"\"\n",
    "x = tf.placeholder(tf.int32, [batch_size, num_steps], name=\"input_placeholder\")\n",
    "y = tf.placeholder(tf.int32, [batch_size, num_steps], name=\"output_placeholder\")\n",
    "init_state = tf.zeros([batch_size, state_size])\n",
    "\n",
    "\"\"\"\n",
    "RNN Inputs\n",
    "\"\"\"\n",
    "# Turn our x placeholder into a list of one-hot tensors:\n",
    "x_one_hot = tf.one_hot(x, num_classes)\n",
    "print x_one_hot\n",
    "rnn_inputs = tf.unstack(x_one_hot, axis=1)\n",
    "print rnn_inputs[0]"
   ]
  },
  {
   "cell_type": "code",
   "execution_count": 5,
   "metadata": {
    "collapsed": false
   },
   "outputs": [],
   "source": [
    "\"\"\"\n",
    "Definition of rnn_cell\n",
    "\"\"\"\n",
    "with tf.variable_scope(\"rnn_cell\"):\n",
    "    W = tf.get_variable(\"W\", [num_classes + state_size, state_size])\n",
    "    b = tf.get_variable(\"b\", [state_size], initializer=tf.constant_initializer(0.0))\n",
    "\n",
    "def rnn_cell(rnn_input, state):\n",
    "    with tf.variable_scope(\"rnn_cell\", reuse=True):\n",
    "        W = tf.get_variable(\"W\", [num_classes + state_size, state_size])\n",
    "        b = tf.get_variable(\"b\", [state_size], initializer=tf.constant_initializer(0.0))\n",
    "    return tf.tanh(tf.matmul(tf.concat([rnn_input, state], 1), W) + b)\n",
    "        "
   ]
  },
  {
   "cell_type": "code",
   "execution_count": 6,
   "metadata": {
    "collapsed": false
   },
   "outputs": [
    {
     "name": "stdout",
     "output_type": "stream",
     "text": [
      "Tensor(\"Tanh_9:0\", shape=(200, 16), dtype=float32)\n"
     ]
    }
   ],
   "source": [
    "\"\"\"\n",
    "Adding rnn_cells to graph\n",
    "\"\"\"\n",
    "\n",
    "state = init_state\n",
    "rnn_outputs = []\n",
    "for rnn_input in rnn_inputs:\n",
    "    state = rnn_cell(rnn_input, state)\n",
    "    rnn_outputs.append(state)\n",
    "final_state = rnn_outputs[-1]\n",
    "print final_state"
   ]
  },
  {
   "cell_type": "code",
   "execution_count": 7,
   "metadata": {
    "collapsed": false
   },
   "outputs": [],
   "source": [
    "\"\"\"\n",
    "Prediction, loss, training step\n",
    "\n",
    "Losses is similar to the \"sequence_loss\" function from Tensorflow's API, except that here we are using a list of\n",
    "2D tensors, instead of a 3D tensor\n",
    "\"\"\"\n",
    "\n",
    "# logits and predictions\n",
    "with tf.variable_scope(\"softmax\"):\n",
    "    W = tf.get_variable(\"W\", [state_size, num_classes])\n",
    "    b = tf.get_variable(\"b\", [num_classes], initializer=tf.constant_initializer(0.0))\n",
    "logits = [tf.matmul(rnn_output, W) + b for rnn_output in rnn_outputs]\n",
    "predictions = [tf.nn.softmax(logit) for logit in logits]\n",
    "\n",
    "# Turn our y placeholder into a list of labels\n",
    "y_as_list = tf.unstack(y, num=num_steps, axis=1)\n",
    "\n",
    "# losses and train_step\n",
    "losses = [tf.nn.sparse_softmax_cross_entropy_with_logits(labels=label, logits=logit) for \\\n",
    "         logit, label in zip(logits, y_as_list)]\n",
    "total_loss = tf.reduce_mean(losses)\n",
    "train_step = tf.train.AdagradOptimizer(learning_rate).minimize(total_loss)"
   ]
  },
  {
   "cell_type": "code",
   "execution_count": 8,
   "metadata": {
    "collapsed": true
   },
   "outputs": [],
   "source": [
    "\"\"\"\n",
    "Train the network\n",
    "\"\"\"\n",
    "\n",
    "def train_network(num_epochs, num_steps, state_size=4, verbose=True):\n",
    "    with tf.Session() as sess:\n",
    "        sess.run(tf.global_variables_initializer())\n",
    "        training_losses = []\n",
    "        for idx, epoch in enumerate(gen_epochs(num_epochs, num_steps)):\n",
    "            training_loss = 0\n",
    "            training_state = np.zeros((batch_size, state_size))\n",
    "            if verbose:\n",
    "                print(\"EPOCH\", idx)\n",
    "            for step, (X,Y) in enumerate(epoch):\n",
    "                tf_losses, training_loss_, training_state, _ = \\\n",
    "                    sess.run([losses,\n",
    "                              total_loss,\n",
    "                              final_state,\n",
    "                              train_step],\n",
    "                                feed_dict={x:X, y:Y, init_state:training_state})\n",
    "                training_loss += training_loss_\n",
    "                if step % 100 == 0 and step > 0:\n",
    "                    if verbose:\n",
    "                        print(\"Average loss at step\", step, \"for last 250 steps:\", training_loss/100)\n",
    "                    training_losses.append(training_loss/100)\n",
    "                    training_loss = 0\n",
    "                    \n",
    "    return training_losses"
   ]
  },
  {
   "cell_type": "code",
   "execution_count": 9,
   "metadata": {
    "collapsed": false
   },
   "outputs": [
    {
     "name": "stdout",
     "output_type": "stream",
     "text": [
      "('EPOCH', 0)\n",
      "('Average loss at step', 100, 'for last 250 steps:', 0.50308649867773059)\n",
      "('Average loss at step', 200, 'for last 250 steps:', 0.47693587303161622)\n",
      "('Average loss at step', 300, 'for last 250 steps:', 0.47442543208599092)\n",
      "('Average loss at step', 400, 'for last 250 steps:', 0.46854261606931685)\n",
      "('EPOCH', 1)\n",
      "('Average loss at step', 100, 'for last 250 steps:', 0.47235097110271451)\n",
      "('Average loss at step', 200, 'for last 250 steps:', 0.4676735734939575)\n",
      "('Average loss at step', 300, 'for last 250 steps:', 0.46543931007385253)\n",
      "('Average loss at step', 400, 'for last 250 steps:', 0.46454626172780988)\n",
      "('EPOCH', 2)\n",
      "('Average loss at step', 100, 'for last 250 steps:', 0.46990887314081192)\n",
      "('Average loss at step', 200, 'for last 250 steps:', 0.46305358827114107)\n",
      "('Average loss at step', 300, 'for last 250 steps:', 0.46204706639051435)\n",
      "('Average loss at step', 400, 'for last 250 steps:', 0.46199122548103333)\n",
      "('EPOCH', 3)\n",
      "('Average loss at step', 100, 'for last 250 steps:', 0.46917766302824021)\n",
      "('Average loss at step', 200, 'for last 250 steps:', 0.46150075644254684)\n",
      "('Average loss at step', 300, 'for last 250 steps:', 0.45852444976568224)\n",
      "('Average loss at step', 400, 'for last 250 steps:', 0.46079759418964383)\n",
      "('EPOCH', 4)\n",
      "('Average loss at step', 100, 'for last 250 steps:', 0.4648495188355446)\n",
      "('Average loss at step', 200, 'for last 250 steps:', 0.45928039968013762)\n",
      "('Average loss at step', 300, 'for last 250 steps:', 0.45966509848833081)\n",
      "('Average loss at step', 400, 'for last 250 steps:', 0.46209103375673294)\n",
      "('EPOCH', 5)\n",
      "('Average loss at step', 100, 'for last 250 steps:', 0.46604631513357164)\n",
      "('Average loss at step', 200, 'for last 250 steps:', 0.45894756853580476)\n",
      "('Average loss at step', 300, 'for last 250 steps:', 0.45758227050304412)\n",
      "('Average loss at step', 400, 'for last 250 steps:', 0.45716597408056259)\n",
      "('EPOCH', 6)\n",
      "('Average loss at step', 100, 'for last 250 steps:', 0.46503432184457777)\n",
      "('Average loss at step', 200, 'for last 250 steps:', 0.45794038563966749)\n",
      "('Average loss at step', 300, 'for last 250 steps:', 0.45805527210235597)\n",
      "('Average loss at step', 400, 'for last 250 steps:', 0.45754740834236146)\n",
      "('EPOCH', 7)\n",
      "('Average loss at step', 100, 'for last 250 steps:', 0.46338883012533189)\n",
      "('Average loss at step', 200, 'for last 250 steps:', 0.45882983893156054)\n",
      "('Average loss at step', 300, 'for last 250 steps:', 0.45552163958549502)\n",
      "('Average loss at step', 400, 'for last 250 steps:', 0.45762014597654344)\n",
      "('EPOCH', 8)\n",
      "('Average loss at step', 100, 'for last 250 steps:', 0.4638558837771416)\n",
      "('Average loss at step', 200, 'for last 250 steps:', 0.45654043942689898)\n",
      "('Average loss at step', 300, 'for last 250 steps:', 0.45743223547935485)\n",
      "('Average loss at step', 400, 'for last 250 steps:', 0.45757239580154419)\n",
      "('EPOCH', 9)\n",
      "('Average loss at step', 100, 'for last 250 steps:', 0.46631978064775464)\n",
      "('Average loss at step', 200, 'for last 250 steps:', 0.45848301142454145)\n",
      "('Average loss at step', 300, 'for last 250 steps:', 0.45732870578765872)\n",
      "('Average loss at step', 400, 'for last 250 steps:', 0.45737885504961012)\n"
     ]
    },
    {
     "data": {
      "text/plain": [
       "[<matplotlib.lines.Line2D at 0x10a2bd0d0>]"
      ]
     },
     "execution_count": 9,
     "metadata": {},
     "output_type": "execute_result"
    },
    {
     "data": {
      "image/png": "[encoded data removed]",
      "text/plain": [
       "<matplotlib.figure.Figure at 0x109665bd0>"
      ]
     },
     "metadata": {},
     "output_type": "display_data"
    }
   ],
   "source": [
    "training_losses = train_network(10,num_steps,state_size=state_size)\n",
    "plt.plot(training_losses)"
   ]
  }
 ],
 "metadata": {
  "kernelspec": {
   "display_name": "Python 2",
   "language": "python",
   "name": "python2"
  },
  "language_info": {
   "codemirror_mode": {
    "name": "ipython",
    "version": 2
   },
   "file_extension": ".py",
   "mimetype": "text/x-python",
   "name": "python",
   "nbconvert_exporter": "python",
   "pygments_lexer": "ipython2",
   "version": "2.7.12"
  }
 },
 "nbformat": 4,
 "nbformat_minor": 0
}
